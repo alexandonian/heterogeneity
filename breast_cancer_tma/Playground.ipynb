{
 "cells": [
  {
   "cell_type": "code",
   "execution_count": 114,
   "metadata": {
    "collapsed": false
   },
   "outputs": [],
   "source": [
    "import pandas as pd\n",
    "import numpy as np\n",
    "from os import listdir\n",
    "from os.path import isfile, join\n",
    "import re\n",
    "from PIL import Image\n",
    "from sklearn.feature_extraction import image as sklim\n",
    "from skimage.util import shape\n",
    "import matplotlib.pyplot as plt\n"
   ]
  },
  {
   "cell_type": "code",
   "execution_count": 115,
   "metadata": {
    "collapsed": false
   },
   "outputs": [],
   "source": [
    "data = 'data-99spots/'\n",
    "files = [f for f in listdir(data) if isfile(join(data, f)) and f.endswith('.csv')]\n",
    "\n",
    "# for file in files:\n",
    "#     with open(data+files[1], 'rb') as csvfile:\n",
    "#         reader = csv.reader(csvfile, delimiter=',', quotechar='|')\n",
    "#         for row in reader:\n",
    "#             print ', '.join(row)\n",
    "\n",
    "csv_file = data + files[1]\n",
    "df = pd.read_csv(csv_file)\n",
    "# saved_column = df.column_name #you can also use df['column_name']\n",
    "# print df['Cell_ID']\n",
    "# a =df[:3]\n",
    "xy = np.concatenate((np.reshape(df.Cell_X, (-1,1)), np.reshape(df.Cell_Y, (-1,1))),axis=1)\n",
    "features = {}\n",
    "# biomarker = []\n",
    "\n",
    "def determineCohort(spot_name):\n",
    "    cohort_1 = ['000', '005', '026', '031', '046', '055', '060', '081', '086']\n",
    "    cohort_2 = ['001', '006', '011', '016', '025', '030', '043', '045', '056',\n",
    "         '061', '066', '076', '080', '085', '096']\n",
    "    cohort_3 = ['002', '007', '012', '017', '020', '024', '029', '032', '034',\n",
    "        '036', '039', '044', '049', '052', '057', '062', '067', '071', '072',\n",
    "        '079', '084', '089', '091', '095']\n",
    "    cohort_4 = ['003', '008', '013', '015', '018', '021', '023', '028', '033',\n",
    "        '038', '041', '048', '053', '058', '063', '065', '068', '070', '073',\n",
    "        '078', '083', '088', '090', '093']\n",
    "    if spot_name in cohort_1:\n",
    "        return 1\n",
    "    elif spot_name in cohort_2:\n",
    "        return 2\n",
    "    elif spot_name in cohort_3:\n",
    "        return 3\n",
    "    elif spot_name in cohort_4:\n",
    "        return 4\n",
    "    else:\n",
    "        print 'Spot does not belong to any cohorts!'\n",
    "        \n",
    "for idx, col in enumerate(list(df)):\n",
    "    \n",
    "    pass\n",
    "    \n",
    "# #      m = re.search('^[^_]+(?=_)', col)\n",
    "#     biomarker.append(tuple(col.split('_')[0:2]))\n",
    "#     features[biomarker[idx]] = df[col].values\n",
    "        \n",
    "     \n",
    "     # print m.group(0)\n",
    "biomarker, location, col = zip(*[(col.split('_')[0], col.split('_')[1], col) for col in list(df) if col.split('_')[0] != 'Cell'])\n",
    "# b, l = [col.spl]\n",
    "# biomarker = [m.group(0) for col in list(df) for m in [re.search('^[^_]+(?=_)', col)] if col != 'Cell']\n",
    "uniq_biomarker = list(set(biomarker))\n",
    "uniq_location = list(set(location))\n",
    "\n",
    "k = 0\n",
    "for i, bio in enumerate(uniq_biomarker):\n",
    "    features[bio] ={}\n",
    "    for j, loc in enumerate(uniq_location):\n",
    "#         features[bio][loc] = df[col[i*len(uniq_location) + j]].values\n",
    "        features[bio][loc] = df[col[k]].values\n",
    "#         print i*(len(uniq_location)) + j\n",
    "        k+=1\n",
    "        \n",
    "#         print i*len(uniq_location) + j\n",
    "        \n",
    "# for i in range(len(col)):\n",
    "#     features[biomarker[i]][location[i]] = df[col[i]]\n",
    "    \n",
    "        \n",
    "\n",
    "\n",
    "# biomarker[:] = list(set((bio for bio in biomarker if bio != 'Cell')))\n",
    "\n",
    "# for idx, col in enumerate(list(df)):\n",
    "#     print idx, col\n",
    "    \n",
    "\n",
    "# filename = '011_Quant.csv'\n",
    "# spot_name = re.search('\\d{2,3}', filename).group(0)\n",
    "\n",
    "\n",
    "\n"
   ]
  },
  {
   "cell_type": "code",
   "execution_count": 116,
   "metadata": {
    "collapsed": false
   },
   "outputs": [
    {
     "name": "stdout",
     "output_type": "stream",
     "text": [
      "Her2\n",
      "Mem\n",
      "EGFR_Mem_Quant\n",
      "['PR', 'Her2', 'PCAD', 'EGFR', 'ER']\n"
     ]
    }
   ],
   "source": [
    "print biomarker[4]\n",
    "print location[2]\n",
    "print col[2]\n",
    "print uniq_biomarker\n",
    "# print uniq_location"
   ]
  },
  {
   "cell_type": "code",
   "execution_count": 117,
   "metadata": {
    "collapsed": false
   },
   "outputs": [
    {
     "name": "stdout",
     "output_type": "stream",
     "text": [
      "PR\n",
      "['Mem', 'Nuc', 'Cyt']\n",
      "Her2\n",
      "['Mem', 'Nuc', 'Cyt']\n",
      "PCAD\n",
      "['Mem', 'Nuc', 'Cyt']\n",
      "EGFR\n",
      "['Mem', 'Nuc', 'Cyt']\n",
      "ER\n",
      "['Mem', 'Nuc', 'Cyt']\n"
     ]
    }
   ],
   "source": [
    "for i in range(5):\n",
    "    print features.keys()[i]\n",
    "    print features[features.keys()[i]].keys()\n",
    "\n",
    "    "
   ]
  },
  {
   "cell_type": "code",
   "execution_count": 118,
   "metadata": {
    "collapsed": false
   },
   "outputs": [
    {
     "name": "stdout",
     "output_type": "stream",
     "text": [
      "EGFR\n"
     ]
    }
   ],
   "source": [
    "print biomarker[2]\n",
    "spot_num = '011'"
   ]
  },
  {
   "cell_type": "code",
   "execution_count": 119,
   "metadata": {
    "collapsed": false
   },
   "outputs": [],
   "source": [
    "image_dir = 'images'\n",
    "a=[join(image_dir,f) for f in listdir(image_dir) if uniq_biomarker[0] in f]"
   ]
  },
  {
   "cell_type": "code",
   "execution_count": 120,
   "metadata": {
    "collapsed": false
   },
   "outputs": [
    {
     "name": "stdout",
     "output_type": "stream",
     "text": [
      "['images/PR-allTissue/PR_AFRemoved_011.tif']\n"
     ]
    }
   ],
   "source": [
    "image = [join(a[0],f) for f in listdir(a[0]) if spot_num in f]\n",
    "print image"
   ]
  },
  {
   "cell_type": "code",
   "execution_count": 121,
   "metadata": {
    "collapsed": false
   },
   "outputs": [],
   "source": [
    "im = Image.open(image[0]).convert(\"L\")"
   ]
  },
  {
   "cell_type": "code",
   "execution_count": 112,
   "metadata": {
    "collapsed": false
   },
   "outputs": [],
   "source": [
    "def im2double(im):\n",
    "    min_val = np.min(im.ravel())\n",
    "    max_val = np.max(im.ravel())\n",
    "    out = (im.astype('float') - min_val) / (max_val - min_val)\n",
    "    return out\n",
    "i = np.array(im)\n",
    "\n",
    "i = im2double(i)"
   ]
  },
  {
   "cell_type": "code",
   "execution_count": 12,
   "metadata": {
    "collapsed": false
   },
   "outputs": [],
   "source": [
    "# import numpy\n",
    "# import PIL\n",
    " \n",
    "# # Convert Image to array\n",
    "# img = PIL.Image.open(\"foo.jpg\").convert(\"L\")\n",
    "# arr = numpy.array(img)\n",
    " \n",
    "# # Convert array to Image\n",
    "# img = PIL.Image.fromarray(arr)"
   ]
  },
  {
   "cell_type": "code",
   "execution_count": 13,
   "metadata": {
    "collapsed": false
   },
   "outputs": [],
   "source": [
    "tilesize = 256\n",
    "\n",
    "# Generates completely overlapping patches\n",
    "patches = sklim.extract_patches_2d(i, (256, 256), max_patches=100, random_state=None )"
   ]
  },
  {
   "cell_type": "code",
   "execution_count": 14,
   "metadata": {
    "collapsed": false
   },
   "outputs": [
    {
     "name": "stdout",
     "output_type": "stream",
     "text": [
      "100 loops, best of 3: 2.05 ms per loop\n",
      "100 loops, best of 3: 2.92 ms per loop\n"
     ]
    }
   ],
   "source": [
    "# patchifiy image!!\n",
    "%timeit for x in range(100): shape.view_as_blocks(i,(256, 256))\n",
    "%timeit for x in range(100): shape.view_as_windows(i,(256, 256), 256)\n",
    "patches = shape.view_as_windows(i,(256, 256), 64)"
   ]
  },
  {
   "cell_type": "code",
   "execution_count": 19,
   "metadata": {
    "collapsed": false
   },
   "outputs": [
    {
     "name": "stdout",
     "output_type": "stream",
     "text": [
      "(29, 29, 256, 256)\n"
     ]
    }
   ],
   "source": [
    "# show_subset_patches\n",
    "print patches.shape\n",
    "k = 1\n",
    "for i in range(5):\n",
    "    for j in range(5):\n",
    "        plt.subplot(5, 5, k)\n",
    "        a = patches[i,j,:,:]\n",
    "        plt.imshow(a)\n",
    "        k+=1\n",
    "plt.show()"
   ]
  },
  {
   "cell_type": "code",
   "execution_count": 31,
   "metadata": {
    "collapsed": true
   },
   "outputs": [],
   "source": [
    "def patchify(img, patch_shape):\n",
    "    img = np.ascontiguousarray(img)  # won't make a copy if not needed\n",
    "    X, Y = img.shape\n",
    "    x, y = patch_shape\n",
    "    shape = ((X-x+1), (Y-y+1), x, y) # number of patches, patch_shape\n",
    "    # The right strides can be thought by:\n",
    "    # 1) Thinking of `img` as a chunk of memory in C order\n",
    "    # 2) Asking how many items through that chunk of memory are needed when indices\n",
    "    #    i,j,k,l are incremented by one\n",
    "    strides = img.itemsize*np.array([Y, 1, Y, 1])\n",
    "    return np.lib.stride_tricks.as_strided(img, shape=shape, strides=strides)\n",
    "# %load 'src/python/classes/TissueMicroArray.py'"
   ]
  },
  {
   "cell_type": "code",
   "execution_count": 94,
   "metadata": {
    "collapsed": false
   },
   "outputs": [
    {
     "name": "stdout",
     "output_type": "stream",
     "text": [
      "[[ 0  1  2  3]\n",
      " [ 4  5  6  7]\n",
      " [ 8  9 10 11]\n",
      " [12 13 14 15]]\n"
     ]
    }
   ],
   "source": [
    "im = np.arange(16).reshape(4,4)\n",
    "im3 = np.arange(16*3).reshape((4,4,3))\n",
    "print im"
   ]
  },
  {
   "cell_type": "code",
   "execution_count": 103,
   "metadata": {
    "collapsed": false
   },
   "outputs": [],
   "source": [
    "p = shape.view_as_windows(im,(1,1))\n",
    "p3 = shape.view_as_windows(im3, (2,2,3),(2,2,1))\n"
   ]
  },
  {
   "cell_type": "code",
   "execution_count": 104,
   "metadata": {
    "collapsed": false
   },
   "outputs": [
    {
     "data": {
      "text/plain": [
       "(2, 2, 1, 2, 2, 3)"
      ]
     },
     "execution_count": 104,
     "metadata": {},
     "output_type": "execute_result"
    }
   ],
   "source": [
    "p.shape\n",
    "p3.shape"
   ]
  },
  {
   "cell_type": "code",
   "execution_count": 53,
   "metadata": {
    "collapsed": false
   },
   "outputs": [
    {
     "data": {
      "text/plain": [
       "array([[ 1,  4,  7, 10],\n",
       "       [25, 28, 31, 34],\n",
       "       [49, 52, 55, 58],\n",
       "       [73, 76, 79, 82]])"
      ]
     },
     "execution_count": 53,
     "metadata": {},
     "output_type": "execute_result"
    }
   ],
   "source": [
    "p3[0,0,0,:,:,1]"
   ]
  },
  {
   "cell_type": "code",
   "execution_count": 110,
   "metadata": {
    "collapsed": false
   },
   "outputs": [
    {
     "name": "stdout",
     "output_type": "stream",
     "text": [
      "hi\n"
     ]
    }
   ],
   "source": [
    "if not None:\n",
    "    print 'hi'"
   ]
  },
  {
   "cell_type": "code",
   "execution_count": 22,
   "metadata": {
    "collapsed": false
   },
   "outputs": [
    {
     "name": "stdout",
     "output_type": "stream",
     "text": [
      "(255, 255, 1)\n"
     ]
    }
   ],
   "source": [
    "patch_shape = (256, 256, 3)\n",
    "\n",
    "overlap = 1\n",
    "\n",
    "step = tuple((patch_shape[0]-overlap, patch_shape[1]-overlap, 1))\n",
    "print step\n"
   ]
  },
  {
   "cell_type": "code",
   "execution_count": 1,
   "metadata": {
    "collapsed": true
   },
   "outputs": [],
   "source": [
    "def decorator(func):\n",
    "    print 'before func'\n",
    "    func()\n",
    "    print 'after func'"
   ]
  },
  {
   "cell_type": "code",
   "execution_count": 7,
   "metadata": {
    "collapsed": true
   },
   "outputs": [],
   "source": [
    "def func():\n",
    "    print 'hi'"
   ]
  },
  {
   "cell_type": "code",
   "execution_count": 9,
   "metadata": {
    "collapsed": false
   },
   "outputs": [
    {
     "name": "stdout",
     "output_type": "stream",
     "text": [
      "hi\n"
     ]
    }
   ],
   "source": [
    "func()"
   ]
  },
  {
   "cell_type": "code",
   "execution_count": 10,
   "metadata": {
    "collapsed": false
   },
   "outputs": [
    {
     "name": "stdout",
     "output_type": "stream",
     "text": [
      "before func\n",
      "hi\n",
      "after func\n"
     ]
    }
   ],
   "source": [
    "decorated_func = decorator(func)"
   ]
  },
  {
   "cell_type": "code",
   "execution_count": 15,
   "metadata": {
    "collapsed": false
   },
   "outputs": [
    {
     "name": "stdout",
     "output_type": "stream",
     "text": [
      "before func\n",
      "hi\n",
      "after func\n"
     ]
    }
   ],
   "source": [
    "@decorator\n",
    "def func():\n",
    "    print 'hi'"
   ]
  },
  {
   "cell_type": "code",
   "execution_count": null,
   "metadata": {
    "collapsed": true
   },
   "outputs": [],
   "source": []
  }
 ],
 "metadata": {
  "kernelspec": {
   "display_name": "Python 2",
   "language": "python",
   "name": "python2"
  },
  "language_info": {
   "codemirror_mode": {
    "name": "ipython",
    "version": 2
   },
   "file_extension": ".py",
   "mimetype": "text/x-python",
   "name": "python",
   "nbconvert_exporter": "python",
   "pygments_lexer": "ipython2",
   "version": "2.7.11"
  }
 },
 "nbformat": 4,
 "nbformat_minor": 0
}
