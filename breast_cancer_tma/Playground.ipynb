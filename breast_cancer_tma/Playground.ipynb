{
 "cells": [
  {
   "cell_type": "code",
   "execution_count": 1,
   "metadata": {
    "collapsed": true
   },
   "outputs": [],
   "source": [
    "import pandas as pd\n",
    "import numpy as np\n",
    "from os import listdir\n",
    "from os.path import isfile, join\n",
    "import re"
   ]
  },
  {
   "cell_type": "code",
   "execution_count": 6,
   "metadata": {
    "collapsed": false
   },
   "outputs": [
    {
     "ename": "SyntaxError",
     "evalue": "invalid syntax (<ipython-input-6-5b5320db56e8>, line 27)",
     "output_type": "error",
     "traceback": [
      "\u001b[0;36m  File \u001b[0;32m\"<ipython-input-6-5b5320db56e8>\"\u001b[0;36m, line \u001b[0;32m27\u001b[0m\n\u001b[0;31m    [features[col] = col for col in list(df)]\u001b[0m\n\u001b[0m                   ^\u001b[0m\n\u001b[0;31mSyntaxError\u001b[0m\u001b[0;31m:\u001b[0m invalid syntax\n"
     ]
    }
   ],
   "source": [
    "data = 'data-99spots/'\n",
    "files = [f for f in listdir(data) if isfile(join(data, f)) and f.endswith('.csv')]\n",
    "\n",
    "# for file in files:\n",
    "#     with open(data+files[1], 'rb') as csvfile:\n",
    "#         reader = csv.reader(csvfile, delimiter=',', quotechar='|')\n",
    "#         for row in reader:\n",
    "#             print ', '.join(row)\n",
    "\n",
    "csv_file = data + files[1]\n",
    "df = pd.read_csv(csv_file)\n",
    "# saved_column = df.column_name #you can also use df['column_name']\n",
    "# print df['Cell_ID']\n",
    "a =df[:5]\n",
    "print a\n",
    "xy = np.concatenate((np.reshape(df.Cell_X, (-1,1)), np.reshape(df.Cell_Y, (-1,1))),axis=1)\n",
    "print xy\n",
    "for col in list(df):\n",
    "    \n",
    "     m = re.search('^[^_]+(?=_)', col)\n",
    "     # print m.group(0)\n",
    "\n",
    "biomarker = [m.group(0) for col in list(df) for m in [re.search('^[^_]+(?=_)', col)] if col != 'Cell']\n",
    "# biomarker = list(set(biomarker))\n",
    "biomarker[:] = list(set((bio for bio in biomarker if bio != 'Cell')))\n",
    "print biomarker\n",
    "[features[col] = col for col in list(df)]\n",
    "\n",
    "filename = '011_Quant.csv'\n",
    "spot_name = re.search('\\d{2,3}', filename).group(0)\n",
    "\n",
    "\n",
    "def determineCohort(spot_name):\n",
    "    cohort_1 = ['000', '005', '026', '031', '046', '055', '060', '081', '086']\n",
    "    cohort_2 = ['001', '006', '011', '016', '025', '030', '043', '045', '056',\n",
    "         '061', '066', '076', '080', '085', '096']\n",
    "    cohort_3 = ['002', '007', '012', '017', '020', '024', '029', '032', '034',\n",
    "        '036', '039', '044', '049', '052', '057', '062', '067', '071', '072',\n",
    "        '079', '084', '089', '091', '095']\n",
    "    cohort_4 = ['003', '008', '013', '015', '018', '021', '023', '028', '033',\n",
    "        '038', '041', '048', '053', '058', '063', '065', '068', '070', '073',\n",
    "        '078', '083', '088', '090', '093']\n",
    "    if spot_name in cohort_1:\n",
    "        return 1\n",
    "    elif spot_name in cohort_2:\n",
    "        return 2\n",
    "    elif spot_name in cohort_3:\n",
    "        return 3\n",
    "    elif spot_name in cohort_4:\n",
    "        return 4\n",
    "    else:\n",
    "        print 'Spot does not belong to any cohorts!'\n",
    "print determineCohort(spot_name)\n"
   ]
  },
  {
   "cell_type": "code",
   "execution_count": null,
   "metadata": {
    "collapsed": true
   },
   "outputs": [],
   "source": []
  }
 ],
 "metadata": {
  "kernelspec": {
   "display_name": "Python 2",
   "language": "python",
   "name": "python2"
  },
  "language_info": {
   "codemirror_mode": {
    "name": "ipython",
    "version": 2
   },
   "file_extension": ".py",
   "mimetype": "text/x-python",
   "name": "python",
   "nbconvert_exporter": "python",
   "pygments_lexer": "ipython2",
   "version": "2.7.11"
  }
 },
 "nbformat": 4,
 "nbformat_minor": 0
}
