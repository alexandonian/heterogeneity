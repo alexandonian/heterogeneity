{
 "cells": [
  {
   "cell_type": "code",
   "execution_count": 13,
   "metadata": {
    "collapsed": false
   },
   "outputs": [
    {
     "ename": "SyntaxError",
     "evalue": "invalid syntax (<ipython-input-13-2acde0f20fce>, line 6)",
     "output_type": "error",
     "traceback": [
      "\u001b[1;36m  File \u001b[1;32m\"<ipython-input-13-2acde0f20fce>\"\u001b[1;36m, line \u001b[1;32m6\u001b[0m\n\u001b[1;33m    from 'src/python/classes/TissueMicroArray.py' import *\u001b[0m\n\u001b[1;37m                                                ^\u001b[0m\n\u001b[1;31mSyntaxError\u001b[0m\u001b[1;31m:\u001b[0m invalid syntax\n"
     ]
    }
   ],
   "source": [
    "import pandas as pd\n",
    "import numpy as np\n",
    "from os import listdir\n",
    "from os.path import isfile, join\n",
    "import re\n",
    "from 'src/python/classes/TissueMicroArray.py' import *"
   ]
  },
  {
   "cell_type": "code",
   "execution_count": 5,
   "metadata": {
    "collapsed": false
   },
   "outputs": [],
   "source": [
    "data = 'data-99spots/'\n",
    "files = [f for f in listdir(data) if isfile(join(data, f)) and f.endswith('.csv')]\n",
    "\n",
    "# for file in files:\n",
    "#     with open(data+files[1], 'rb') as csvfile:\n",
    "#         reader = csv.reader(csvfile, delimiter=',', quotechar='|')\n",
    "#         for row in reader:\n",
    "#             print ', '.join(row)\n",
    "\n",
    "csv_file = data + files[1]\n",
    "df = pd.read_csv(csv_file)\n",
    "# saved_column = df.column_name #you can also use df['column_name']\n",
    "# print df['Cell_ID']\n",
    "# a =df[:3]\n",
    "xy = np.concatenate((np.reshape(df.Cell_X, (-1,1)), np.reshape(df.Cell_Y, (-1,1))),axis=1)\n",
    "features = {}\n",
    "# biomarker = []\n",
    "\n",
    "def determineCohort(spot_name):\n",
    "    cohort_1 = ['000', '005', '026', '031', '046', '055', '060', '081', '086']\n",
    "    cohort_2 = ['001', '006', '011', '016', '025', '030', '043', '045', '056',\n",
    "         '061', '066', '076', '080', '085', '096']\n",
    "    cohort_3 = ['002', '007', '012', '017', '020', '024', '029', '032', '034',\n",
    "        '036', '039', '044', '049', '052', '057', '062', '067', '071', '072',\n",
    "        '079', '084', '089', '091', '095']\n",
    "    cohort_4 = ['003', '008', '013', '015', '018', '021', '023', '028', '033',\n",
    "        '038', '041', '048', '053', '058', '063', '065', '068', '070', '073',\n",
    "        '078', '083', '088', '090', '093']\n",
    "    if spot_name in cohort_1:\n",
    "        return 1\n",
    "    elif spot_name in cohort_2:\n",
    "        return 2\n",
    "    elif spot_name in cohort_3:\n",
    "        return 3\n",
    "    elif spot_name in cohort_4:\n",
    "        return 4\n",
    "    else:\n",
    "        print 'Spot does not belong to any cohorts!'\n",
    "        \n",
    "for idx, col in enumerate(list(df)):\n",
    "    \n",
    "    pass\n",
    "    \n",
    "# #      m = re.search('^[^_]+(?=_)', col)\n",
    "#     biomarker.append(tuple(col.split('_')[0:2]))\n",
    "#     features[biomarker[idx]] = df[col].values\n",
    "        \n",
    "     \n",
    "     # print m.group(0)\n",
    "biomarker, location, col = zip(*[(col.split('_')[0], col.split('_')[1], col) for col in list(df) if col.split('_')[0] != 'Cell'])\n",
    "# b, l = [col.spl]\n",
    "# biomarker = [m.group(0) for col in list(df) for m in [re.search('^[^_]+(?=_)', col)] if col != 'Cell']\n",
    "uniq_biomarker = list(set(biomarker))\n",
    "uniq_location = list(set(location))\n",
    "\n",
    "k = 0\n",
    "for i, bio in enumerate(uniq_biomarker):\n",
    "    features[bio] ={}\n",
    "    for j, loc in enumerate(uniq_location):\n",
    "#         features[bio][loc] = df[col[i*len(uniq_location) + j]].values\n",
    "        features[bio][loc] = df[col[k]].values\n",
    "#         print i*(len(uniq_location)) + j\n",
    "        k+=1\n",
    "        \n",
    "#         print i*len(uniq_location) + j\n",
    "        \n",
    "# for i in range(len(col)):\n",
    "#     features[biomarker[i]][location[i]] = df[col[i]]\n",
    "    \n",
    "        \n",
    "\n",
    "\n",
    "# biomarker[:] = list(set((bio for bio in biomarker if bio != 'Cell')))\n",
    "\n",
    "# for idx, col in enumerate(list(df)):\n",
    "#     print idx, col\n",
    "    \n",
    "\n",
    "# filename = '011_Quant.csv'\n",
    "# spot_name = re.search('\\d{2,3}', filename).group(0)\n",
    "\n",
    "\n",
    "\n"
   ]
  },
  {
   "cell_type": "code",
   "execution_count": 6,
   "metadata": {
    "collapsed": false
   },
   "outputs": [
    {
     "name": "stdout",
     "output_type": "stream",
     "text": [
      "EGFR\n",
      "Mem\n",
      "EGFR_Mem_Quant\n"
     ]
    }
   ],
   "source": [
    "print biomarker[2]\n",
    "print location[2]\n",
    "print col[2]\n",
    "# print uniq_biomarker\n",
    "# print uniq_location"
   ]
  },
  {
   "cell_type": "code",
   "execution_count": 7,
   "metadata": {
    "collapsed": false
   },
   "outputs": [
    {
     "name": "stdout",
     "output_type": "stream",
     "text": [
      "PR\n",
      "['Mem', 'Nuc', 'Cyt']\n",
      "Her2\n",
      "['Mem', 'Nuc', 'Cyt']\n",
      "PCAD\n",
      "['Mem', 'Nuc', 'Cyt']\n",
      "EGFR\n",
      "['Mem', 'Nuc', 'Cyt']\n",
      "ER\n",
      "['Mem', 'Nuc', 'Cyt']\n"
     ]
    }
   ],
   "source": [
    "for i in range(5):\n",
    "    print features.keys()[i]\n",
    "    print features[features.keys()[i]].keys()\n",
    "\n",
    "    "
   ]
  },
  {
   "cell_type": "code",
   "execution_count": null,
   "metadata": {
    "collapsed": false
   },
   "outputs": [],
   "source": []
  },
  {
   "cell_type": "code",
   "execution_count": 9,
   "metadata": {
    "collapsed": false
   },
   "outputs": [
    {
     "ename": "NameError",
     "evalue": "name 'TissueMicroArray' is not defined",
     "output_type": "error",
     "traceback": [
      "\u001b[1;31m---------------------------------------------------------------------------\u001b[0m",
      "\u001b[1;31mNameError\u001b[0m                                 Traceback (most recent call last)",
      "\u001b[1;32m<ipython-input-9-ed59131d2e6e>\u001b[0m in \u001b[0;36m<module>\u001b[1;34m()\u001b[0m\n\u001b[1;32m----> 1\u001b[1;33m \u001b[0mtma\u001b[0m \u001b[1;33m=\u001b[0m \u001b[0mTissueMicroArray\u001b[0m\u001b[1;33m(\u001b[0m\u001b[1;33m)\u001b[0m\u001b[1;33m\u001b[0m\u001b[0m\n\u001b[0m",
      "\u001b[1;31mNameError\u001b[0m: name 'TissueMicroArray' is not defined"
     ]
    }
   ],
   "source": [
    "tma = TissueMicroArray()"
   ]
  },
  {
   "cell_type": "code",
   "execution_count": null,
   "metadata": {
    "collapsed": true
   },
   "outputs": [],
   "source": []
  }
 ],
 "metadata": {
  "kernelspec": {
   "display_name": "Python 2",
   "language": "python",
   "name": "python2"
  },
  "language_info": {
   "codemirror_mode": {
    "name": "ipython",
    "version": 2
   },
   "file_extension": ".py",
   "mimetype": "text/x-python",
   "name": "python",
   "nbconvert_exporter": "python",
   "pygments_lexer": "ipython2",
   "version": "2.7.11"
  }
 },
 "nbformat": 4,
 "nbformat_minor": 0
}
